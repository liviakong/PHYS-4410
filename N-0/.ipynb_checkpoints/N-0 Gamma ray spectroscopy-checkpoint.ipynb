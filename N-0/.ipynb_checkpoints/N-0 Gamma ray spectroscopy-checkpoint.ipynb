{
 "cells": [
  {
   "cell_type": "code",
   "execution_count": 9,
   "id": "363181a4",
   "metadata": {},
   "outputs": [],
   "source": [
    "import os\n",
    "import numpy as np\n",
    "import matplotlib.pyplot as plt\n",
    "import struct\n",
    "from scipy.signal import find_peaks\n",
    "from ipywidgets import Text, fixed, VBox, Output\n",
    "\n",
    "def view_chn_spectrum(filepath, a=0.172, b=-5.92, prominence=500, width=600, show_line=True):\n",
    "#     def read_ortec_chn(filepath):\n",
    "#         with open(filepath, 'rb') as f:\n",
    "#             data = f.read()\n",
    "#         num_channels = struct.unpack('<H', data[20:22])[0]\n",
    "#         spectrum_data = struct.unpack('<' + 'H' * num_channels, data[32:32 + 2 * num_channels])\n",
    "#         return np.array(spectrum_data)\n",
    "\n",
    "    def read_ortec_chn(filepath):\n",
    "        with open(filepath, 'rb') as f:\n",
    "            data = f.read()\n",
    "        num_channels = struct.unpack('<H', data[20:22])[0]\n",
    "        spectrum_data = struct.unpack('<' + 'H' * num_channels, data[32:32 + 2 * num_channels])\n",
    "        full_counts = np.array(spectrum_data)\n",
    "\n",
    "        # Use only the half that is non-zero\n",
    "        if np.all(full_counts[::2] == 0):\n",
    "            counts = full_counts[1::2]  # use odd bins\n",
    "            offset = 1\n",
    "        elif np.all(full_counts[1::2] == 0):\n",
    "            counts = full_counts[::2]  # use even bins\n",
    "            offset = 0\n",
    "        else:\n",
    "            counts = full_counts\n",
    "            offset = 0\n",
    "\n",
    "        return counts, offset\n",
    "\n",
    "    def channel_to_energy(channels, a, b):\n",
    "        return a * channels + b\n",
    "\n",
    "    def plot_spectrum(counts, a, b, x_value, show_line):\n",
    "#         channels = np.arange(len(counts))\n",
    "#         energy = channel_to_energy(channels, a, b)\n",
    "        \n",
    "        channels = np.arange(len(counts)) * 2 + offset\n",
    "        energy = channel_to_energy(channels, a, b)\n",
    "\n",
    "        # Snap to nearest bin\n",
    "        index = np.argmin(np.abs(energy - x_value))\n",
    "        snapped_energy = energy[index]\n",
    "        value_at_x = counts[index]\n",
    "\n",
    "        fig, ax = plt.subplots(figsize=(12, 6))\n",
    "        ax.plot(energy, counts, label='Counts')\n",
    "        ax.set_yscale('log')\n",
    "\n",
    "        # Conditionally show red line and text\n",
    "        if show_line:\n",
    "            ax.axvline(x=snapped_energy, color='r', linestyle='--')\n",
    "            ax.scatter(snapped_energy, value_at_x, color='r')\n",
    "            ax.text(snapped_energy + 0.2, value_at_x + 0.1,\n",
    "                    f'Value: {value_at_x:.2f}\\nEnergy: {snapped_energy:.2f} keV',\n",
    "                    color='r', fontsize=9)\n",
    "\n",
    "        # Add labels, title, etc.\n",
    "        ax.set_title(f'Spectrum from {filepath}')\n",
    "        ax.set_xlabel('Energy (keV)')\n",
    "        ax.set_ylabel('log(Counts)')\n",
    "        ax.grid(True)\n",
    "        ax.legend()\n",
    "        plt.tight_layout()\n",
    "        plt.show()\n",
    "\n",
    "    # Load data\n",
    "    counts = read_ortec_chn(filepath)\n",
    "    channels = np.arange(len(counts))\n",
    "    energy = channel_to_energy(channels, a, b)\n",
    "    energy_min, energy_max = energy[0], energy[-1]\n",
    "\n",
    "    # Text box widget\n",
    "    energy_text = Text(\n",
    "        value=str(0),\n",
    "        description='Energy:',\n",
    "        continuous_update=False\n",
    "    )\n",
    "\n",
    "    out = Output()\n",
    "\n",
    "    def update_plot(change):\n",
    "        with out:\n",
    "            out.clear_output()\n",
    "            try:\n",
    "                val = float(change['new'])\n",
    "                if energy_min <= val <= energy_max:\n",
    "                    plot_spectrum(counts, a, b, val)\n",
    "            except ValueError:\n",
    "                pass  # Invalid input — ignore\n",
    "\n",
    "    energy_text.observe(update_plot, names='value')\n",
    "\n",
    "    # Show initial plot\n",
    "    with out:\n",
    "        plot_spectrum(counts, a, b, float(energy_text.value), show_line)\n",
    "\n",
    "    return VBox([energy_text, out])"
   ]
  },
  {
   "cell_type": "code",
   "execution_count": 10,
   "id": "fb2a73f2",
   "metadata": {
    "scrolled": false
   },
   "outputs": [
    {
     "data": {
      "application/vnd.jupyter.widget-view+json": {
       "model_id": "0a1666360e324996ad12f56ef6a01337",
       "version_major": 2,
       "version_minor": 0
      },
      "text/plain": [
       "VBox(children=(Text(value='0', continuous_update=False, description='Energy:'), Output()))"
      ]
     },
     "metadata": {},
     "output_type": "display_data"
    },
    {
     "data": {
      "application/vnd.jupyter.widget-view+json": {
       "model_id": "b9ec4ad546a648b78957ef81d3ca1c27",
       "version_major": 2,
       "version_minor": 0
      },
      "text/plain": [
       "VBox(children=(Text(value='0', continuous_update=False, description='Energy:'), Output()))"
      ]
     },
     "metadata": {},
     "output_type": "display_data"
    },
    {
     "data": {
      "application/vnd.jupyter.widget-view+json": {
       "model_id": "47c7dbc84b48488eb09187dbe3cf007a",
       "version_major": 2,
       "version_minor": 0
      },
      "text/plain": [
       "VBox(children=(Text(value='0', continuous_update=False, description='Energy:'), Output()))"
      ]
     },
     "metadata": {},
     "output_type": "display_data"
    },
    {
     "data": {
      "application/vnd.jupyter.widget-view+json": {
       "model_id": "6fe6dfe4da1548358d5daa040eac3880",
       "version_major": 2,
       "version_minor": 0
      },
      "text/plain": [
       "VBox(children=(Text(value='0', continuous_update=False, description='Energy:'), Output()))"
      ]
     },
     "metadata": {},
     "output_type": "display_data"
    },
    {
     "data": {
      "application/vnd.jupyter.widget-view+json": {
       "model_id": "8d49af5845474b308d9de223e751982b",
       "version_major": 2,
       "version_minor": 0
      },
      "text/plain": [
       "VBox(children=(Text(value='0', continuous_update=False, description='Energy:'), Output()))"
      ]
     },
     "metadata": {},
     "output_type": "display_data"
    },
    {
     "data": {
      "application/vnd.jupyter.widget-view+json": {
       "model_id": "6c3b778dd8f9405e9c92d08a43aa1652",
       "version_major": 2,
       "version_minor": 0
      },
      "text/plain": [
       "VBox(children=(Text(value='0', continuous_update=False, description='Energy:'), Output()))"
      ]
     },
     "metadata": {},
     "output_type": "display_data"
    },
    {
     "data": {
      "application/vnd.jupyter.widget-view+json": {
       "model_id": "1fcfec93cfa14664ab7879cb9d952fb7",
       "version_major": 2,
       "version_minor": 0
      },
      "text/plain": [
       "VBox(children=(Text(value='0', continuous_update=False, description='Energy:'), Output()))"
      ]
     },
     "metadata": {},
     "output_type": "display_data"
    }
   ],
   "source": [
    "folder = \"C:\\\\Users\\\\livia\\\\Downloads\\\\College\\\\PHYS 4410\\\\N-0\\\\Data\\\\4-30-25\"\n",
    "files = [os.path.join(folder, file_path) for file_path in os.listdir(folder)]\n",
    "\n",
    "for f in files:\n",
    "    display(view_chn_spectrum(f, show_line=True));"
   ]
  },
  {
   "cell_type": "code",
   "execution_count": 11,
   "id": "7378c2cf",
   "metadata": {},
   "outputs": [
    {
     "name": "stdout",
     "output_type": "stream",
     "text": [
      "Channel    Energy (keV)     Counts\n",
      "-----------------------------------\n",
      "      0          -5.920          0\n",
      "      1          -5.748          0\n",
      "      2          -5.576          0\n",
      "      3          -5.404          0\n",
      "      4          -5.232          0\n",
      "      5          -5.060          0\n",
      "      6          -4.888          0\n",
      "      7          -4.716          0\n",
      "      8          -4.544          0\n",
      "      9          -4.372          0\n",
      "     10          -4.200          0\n",
      "     11          -4.028          0\n",
      "     12          -3.856          0\n",
      "     13          -3.684          0\n",
      "     14          -3.512          0\n",
      "     15          -3.340          0\n",
      "     16          -3.168          0\n",
      "     17          -2.996          0\n",
      "     18          -2.824          0\n",
      "     19          -2.652          0\n",
      "     20          -2.480          0\n",
      "     21          -2.308          0\n",
      "     22          -2.136          0\n",
      "     23          -1.964          0\n",
      "     24          -1.792          0\n",
      "     25          -1.620          0\n",
      "     26          -1.448          0\n",
      "     27          -1.276          0\n",
      "     28          -1.104          0\n",
      "     29          -0.932          0\n",
      "     30          -0.760          0\n",
      "     31          -0.588          0\n",
      "     32          -0.416          0\n",
      "     33          -0.244          0\n",
      "     34          -0.072          1\n",
      "     35           0.100          0\n",
      "     36           0.272          0\n",
      "     37           0.444          0\n",
      "     38           0.616          1\n",
      "     39           0.788          0\n",
      "     40           0.960          0\n",
      "     41           1.132          0\n",
      "     42           1.304          1\n",
      "     43           1.476          0\n",
      "     44           1.648          2\n",
      "     45           1.820          0\n",
      "     46           1.992          0\n",
      "     47           2.164          0\n",
      "     48           2.336          1\n",
      "     49           2.508          0\n",
      "     50           2.680          0\n",
      "     51           2.852          0\n",
      "     52           3.024          2\n",
      "     53           3.196          0\n",
      "     54           3.368          1\n",
      "     55           3.540          0\n",
      "     56           3.712          0\n",
      "     57           3.884          0\n",
      "     58           4.056          1\n",
      "     59           4.228          0\n",
      "     60           4.400          1\n",
      "     61           4.572          0\n",
      "     62           4.744          1\n",
      "     63           4.916          0\n",
      "     64           5.088          0\n",
      "     65           5.260          0\n",
      "     66           5.432          1\n",
      "     67           5.604          0\n",
      "     68           5.776          2\n",
      "     69           5.948          0\n",
      "     70           6.120          3\n",
      "     71           6.292          0\n",
      "     72           6.464          2\n",
      "     73           6.636          0\n",
      "     74           6.808          3\n",
      "     75           6.980          0\n",
      "     76           7.152          7\n",
      "     77           7.324          0\n",
      "     78           7.496          8\n",
      "     79           7.668          0\n",
      "     80           7.840         10\n",
      "     81           8.012          0\n",
      "     82           8.184         45\n",
      "     83           8.356          0\n",
      "     84           8.528        260\n",
      "     85           8.700          0\n",
      "     86           8.872        668\n",
      "     87           9.044          0\n",
      "     88           9.216        708\n",
      "     89           9.388          0\n",
      "     90           9.560        510\n",
      "     91           9.732          0\n",
      "     92           9.904        494\n",
      "     93          10.076          0\n",
      "     94          10.248        644\n",
      "     95          10.420          0\n",
      "     96          10.592        837\n",
      "     97          10.764          0\n",
      "     98          10.936       1206\n",
      "     99          11.108          0\n"
     ]
    }
   ],
   "source": [
    "import struct\n",
    "import numpy as np\n",
    "\n",
    "def read_ortec_chn(filepath):\n",
    "    with open(filepath, 'rb') as f:\n",
    "        data = f.read()\n",
    "    num_channels = struct.unpack('<H', data[20:22])[0]\n",
    "    spectrum_data = struct.unpack('<' + 'H' * num_channels, data[32:32 + 2 * num_channels])\n",
    "    return np.array(spectrum_data)\n",
    "\n",
    "def channel_to_energy(channels, a, b):\n",
    "    return a * channels + b\n",
    "\n",
    "def print_first_100_bins(filepath, a=0.172, b=-5.92):\n",
    "    counts = read_ortec_chn(filepath)\n",
    "    channels = np.arange(len(counts))\n",
    "    energy = channel_to_energy(channels, a, b)\n",
    "\n",
    "    print(f\"{'Channel':>7} {'Energy (keV)':>15} {'Counts':>10}\")\n",
    "    print('-' * 35)\n",
    "    for ch in range(min(100, len(counts))):\n",
    "        print(f\"{ch:7d} {energy[ch]:15.3f} {counts[ch]:10d}\")\n",
    "\n",
    "# Example usage:\n",
    "# Replace with the path to your .CHN file\n",
    "filepath = \"C:\\\\Users\\\\livia\\\\Downloads\\\\College\\\\PHYS 4410\\\\N-0\\\\Data\\\\4-30-25\\\\cs-137 (no backing).Chn\"\n",
    "print_first_100_bins(filepath)"
   ]
  },
  {
   "cell_type": "code",
   "execution_count": null,
   "id": "59850e4d",
   "metadata": {},
   "outputs": [],
   "source": []
  }
 ],
 "metadata": {
  "kernelspec": {
   "display_name": "Python 3",
   "language": "python",
   "name": "python3"
  },
  "language_info": {
   "codemirror_mode": {
    "name": "ipython",
    "version": 3
   },
   "file_extension": ".py",
   "mimetype": "text/x-python",
   "name": "python",
   "nbconvert_exporter": "python",
   "pygments_lexer": "ipython3",
   "version": "3.8.8"
  }
 },
 "nbformat": 4,
 "nbformat_minor": 5
}
