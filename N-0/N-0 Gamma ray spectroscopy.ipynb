{
 "cells": [
  {
   "cell_type": "code",
   "execution_count": 18,
   "id": "363181a4",
   "metadata": {},
   "outputs": [],
   "source": [
    "import os\n",
    "import numpy as np\n",
    "import matplotlib.pyplot as plt\n",
    "import struct\n",
    "from scipy.signal import find_peaks\n",
    "from ipywidgets import Text, fixed, VBox, Output\n",
    "\n",
    "def view_chn_spectrum(filepath, a=0.172, b=-5.92, prominence=500, width=600, show_line=True):\n",
    "#     def read_ortec_chn(filepath):\n",
    "#         with open(filepath, 'rb') as f:\n",
    "#             data = f.read()\n",
    "#         num_channels = struct.unpack('<H', data[20:22])[0]\n",
    "#         spectrum_data = struct.unpack('<' + 'H' * num_channels, data[32:32 + 2 * num_channels])\n",
    "#         return np.array(spectrum_data)\n",
    "\n",
    "    def read_ortec_chn(filepath):\n",
    "        with open(filepath, 'rb') as f:\n",
    "            data = f.read()\n",
    "        num_channels = struct.unpack('<H', data[20:22])[0]\n",
    "        spectrum_data = struct.unpack('<' + 'H' * num_channels, data[32:32 + 2 * num_channels])\n",
    "        full_counts = np.array(spectrum_data)\n",
    "\n",
    "        # Use only the half that is non-zero\n",
    "        if np.all(full_counts[::2] == 0):\n",
    "            counts = full_counts[1::2]  # use odd bins\n",
    "            offset = 1\n",
    "        elif np.all(full_counts[1::2] == 0):\n",
    "            counts = full_counts[::2]  # use even bins\n",
    "            offset = 0\n",
    "        else:\n",
    "            counts = full_counts\n",
    "            offset = 0\n",
    "\n",
    "        return counts, offset\n",
    "\n",
    "    def channel_to_energy(channels, a, b):\n",
    "        return a * channels + b\n",
    "\n",
    "    def plot_spectrum(counts, a, b, x_value, show_line):\n",
    "#         channels = np.arange(len(counts))\n",
    "#         energy = channel_to_energy(channels, a, b)\n",
    "        \n",
    "        channels = np.arange(len(counts)) * 2 + offset\n",
    "        energy = channel_to_energy(channels, a, b)\n",
    "\n",
    "        # Snap to nearest bin\n",
    "        index = np.argmin(np.abs(energy - x_value))\n",
    "        snapped_energy = energy[index]\n",
    "        value_at_x = counts[index]\n",
    "\n",
    "        fig, ax = plt.subplots(figsize=(12, 6))\n",
    "        ax.plot(energy, counts, label='Counts')\n",
    "        ax.set_yscale('log')\n",
    "\n",
    "        # Conditionally show red line and text\n",
    "        if show_line:\n",
    "            ax.axvline(x=snapped_energy, color='r', linestyle='--')\n",
    "            ax.scatter(snapped_energy, value_at_x, color='r')\n",
    "            ax.text(snapped_energy + 0.2, value_at_x + 0.1,\n",
    "                    f'Value: {value_at_x:.2f}\\nEnergy: {snapped_energy:.2f} keV',\n",
    "                    color='r', fontsize=9)\n",
    "\n",
    "        # Add labels, title, etc.\n",
    "        ax.set_title(f'Spectrum from {filepath}')\n",
    "        ax.set_xlabel('Energy (keV)')\n",
    "        ax.set_ylabel('log(Counts)')\n",
    "        ax.grid(True)\n",
    "        ax.legend()\n",
    "        plt.tight_layout()\n",
    "        plt.show()\n",
    "\n",
    "    # Load data\n",
    "#     counts = read_ortec_chn(filepath)\n",
    "    counts, offset = read_ortec_chn(filepath)\n",
    "    channels = np.arange(len(counts))\n",
    "    energy = channel_to_energy(channels, a, b)\n",
    "    energy_min, energy_max = energy[0], energy[-1]\n",
    "\n",
    "    # Text box widget\n",
    "    energy_text = Text(\n",
    "        value=str(0),\n",
    "        description='Energy:',\n",
    "        continuous_update=False\n",
    "    )\n",
    "\n",
    "    out = Output()\n",
    "\n",
    "    def update_plot(change):\n",
    "        with out:\n",
    "            out.clear_output()\n",
    "            try:\n",
    "                val = float(change['new'])\n",
    "                if energy_min <= val <= energy_max:\n",
    "                    plot_spectrum(counts, a, b, val, show_line)\n",
    "            except ValueError:\n",
    "                pass  # Invalid input — ignore\n",
    "\n",
    "    energy_text.observe(update_plot, names='value')\n",
    "\n",
    "    # Show initial plot\n",
    "    with out:\n",
    "        plot_spectrum(counts, a, b, float(energy_text.value), show_line)\n",
    "\n",
    "    return VBox([energy_text, out])"
   ]
  },
  {
   "cell_type": "code",
   "execution_count": 19,
   "id": "fb2a73f2",
   "metadata": {
    "scrolled": false
   },
   "outputs": [
    {
     "data": {
      "application/vnd.jupyter.widget-view+json": {
       "model_id": "a05499eb405a413f894021cdd44100df",
       "version_major": 2,
       "version_minor": 0
      },
      "text/plain": [
       "VBox(children=(Text(value='0', continuous_update=False, description='Energy:'), Output()))"
      ]
     },
     "metadata": {},
     "output_type": "display_data"
    },
    {
     "data": {
      "application/vnd.jupyter.widget-view+json": {
       "model_id": "0f7c37d90b2a4f13b8429323c41c7f7f",
       "version_major": 2,
       "version_minor": 0
      },
      "text/plain": [
       "VBox(children=(Text(value='0', continuous_update=False, description='Energy:'), Output()))"
      ]
     },
     "metadata": {},
     "output_type": "display_data"
    },
    {
     "data": {
      "application/vnd.jupyter.widget-view+json": {
       "model_id": "093ceedba5a840ecbb5e5ca85b3b73b2",
       "version_major": 2,
       "version_minor": 0
      },
      "text/plain": [
       "VBox(children=(Text(value='0', continuous_update=False, description='Energy:'), Output()))"
      ]
     },
     "metadata": {},
     "output_type": "display_data"
    },
    {
     "data": {
      "application/vnd.jupyter.widget-view+json": {
       "model_id": "565e129dc39b4949a7da01234de436eb",
       "version_major": 2,
       "version_minor": 0
      },
      "text/plain": [
       "VBox(children=(Text(value='0', continuous_update=False, description='Energy:'), Output()))"
      ]
     },
     "metadata": {},
     "output_type": "display_data"
    },
    {
     "data": {
      "application/vnd.jupyter.widget-view+json": {
       "model_id": "9f6fe586c6354a029570fcbfcb4435d2",
       "version_major": 2,
       "version_minor": 0
      },
      "text/plain": [
       "VBox(children=(Text(value='0', continuous_update=False, description='Energy:'), Output()))"
      ]
     },
     "metadata": {},
     "output_type": "display_data"
    },
    {
     "data": {
      "application/vnd.jupyter.widget-view+json": {
       "model_id": "3f13b4f7abc94b05a3a0b4c2346d80fd",
       "version_major": 2,
       "version_minor": 0
      },
      "text/plain": [
       "VBox(children=(Text(value='0', continuous_update=False, description='Energy:'), Output()))"
      ]
     },
     "metadata": {},
     "output_type": "display_data"
    },
    {
     "data": {
      "application/vnd.jupyter.widget-view+json": {
       "model_id": "76c66819a7014c2fa04e578019b32e17",
       "version_major": 2,
       "version_minor": 0
      },
      "text/plain": [
       "VBox(children=(Text(value='0', continuous_update=False, description='Energy:'), Output()))"
      ]
     },
     "metadata": {},
     "output_type": "display_data"
    }
   ],
   "source": [
    "folder = \"C:\\\\Users\\\\livia\\\\Downloads\\\\College\\\\PHYS 4410\\\\N-0\\\\Data\\\\4-30-25\"\n",
    "files = [os.path.join(folder, file_path) for file_path in os.listdir(folder)]\n",
    "\n",
    "for f in files:\n",
    "    display(view_chn_spectrum(f, a=0.2878, b=-9.14, show_line=True));"
   ]
  },
  {
   "cell_type": "code",
   "execution_count": 16,
   "id": "7378c2cf",
   "metadata": {},
   "outputs": [
    {
     "name": "stdout",
     "output_type": "stream",
     "text": [
      "Channel    Energy (keV)     Counts\n",
      "-----------------------------------\n",
      "      0          -5.920          0\n",
      "      1          -5.748          0\n",
      "      2          -5.576          0\n",
      "      3          -5.404          0\n",
      "      4          -5.232          0\n",
      "      5          -5.060          0\n",
      "      6          -4.888          0\n",
      "      7          -4.716          0\n",
      "      8          -4.544          0\n",
      "      9          -4.372          0\n",
      "     10          -4.200          0\n",
      "     11          -4.028          0\n",
      "     12          -3.856          0\n",
      "     13          -3.684          0\n",
      "     14          -3.512          0\n",
      "     15          -3.340          0\n",
      "     16          -3.168          0\n",
      "     17          -2.996          0\n",
      "     18          -2.824          0\n",
      "     19          -2.652          0\n",
      "     20          -2.480          0\n",
      "     21          -2.308          0\n",
      "     22          -2.136          0\n",
      "     23          -1.964          0\n",
      "     24          -1.792          0\n",
      "     25          -1.620          0\n",
      "     26          -1.448          0\n",
      "     27          -1.276          0\n",
      "     28          -1.104          0\n",
      "     29          -0.932          0\n",
      "     30          -0.760          0\n",
      "     31          -0.588          0\n",
      "     32          -0.416          1\n",
      "     33          -0.244          0\n",
      "     34          -0.072          0\n",
      "     35           0.100          0\n",
      "     36           0.272          1\n",
      "     37           0.444          0\n",
      "     38           0.616          0\n",
      "     39           0.788          0\n",
      "     40           0.960          1\n",
      "     41           1.132          0\n",
      "     42           1.304          0\n",
      "     43           1.476          0\n",
      "     44           1.648          0\n",
      "     45           1.820          0\n",
      "     46           1.992          2\n",
      "     47           2.164          0\n",
      "     48           2.336          0\n",
      "     49           2.508          0\n",
      "     50           2.680          1\n",
      "     51           2.852          0\n",
      "     52           3.024          0\n",
      "     53           3.196          0\n",
      "     54           3.368          0\n",
      "     55           3.540          0\n",
      "     56           3.712          0\n",
      "     57           3.884          0\n",
      "     58           4.056          0\n",
      "     59           4.228          0\n",
      "     60           4.400          0\n",
      "     61           4.572          0\n",
      "     62           4.744          0\n",
      "     63           4.916          0\n",
      "     64           5.088          1\n",
      "     65           5.260          0\n",
      "     66           5.432          0\n",
      "     67           5.604          0\n",
      "     68           5.776          1\n",
      "     69           5.948          0\n",
      "     70           6.120          2\n",
      "     71           6.292          0\n",
      "     72           6.464          5\n",
      "     73           6.636          0\n",
      "     74           6.808          5\n",
      "     75           6.980          0\n",
      "     76           7.152          8\n",
      "     77           7.324          0\n",
      "     78           7.496         13\n",
      "     79           7.668          0\n",
      "     80           7.840         13\n",
      "     81           8.012          0\n",
      "     82           8.184         31\n",
      "     83           8.356          0\n",
      "     84           8.528        294\n",
      "     85           8.700          0\n",
      "     86           8.872        992\n",
      "     87           9.044          0\n",
      "     88           9.216       1034\n",
      "     89           9.388          0\n",
      "     90           9.560        636\n",
      "     91           9.732          0\n",
      "     92           9.904        648\n",
      "     93          10.076          0\n",
      "     94          10.248        653\n",
      "     95          10.420          0\n",
      "     96          10.592        871\n",
      "     97          10.764          0\n",
      "     98          10.936       1242\n",
      "     99          11.108          0\n"
     ]
    }
   ],
   "source": [
    "import struct\n",
    "import numpy as np\n",
    "\n",
    "def read_ortec_chn(filepath):\n",
    "    with open(filepath, 'rb') as f:\n",
    "        data = f.read()\n",
    "    num_channels = struct.unpack('<H', data[20:22])[0]\n",
    "    spectrum_data = struct.unpack('<' + 'H' * num_channels, data[32:32 + 2 * num_channels])\n",
    "    return np.array(spectrum_data)\n",
    "\n",
    "def channel_to_energy(channels, a, b):\n",
    "    return a * channels + b\n",
    "\n",
    "def print_first_100_bins(filepath, a=0.172, b=-5.92):\n",
    "    counts = read_ortec_chn(filepath)\n",
    "    channels = np.arange(len(counts))\n",
    "    energy = channel_to_energy(channels, a, b)\n",
    "\n",
    "    print(f\"{'Channel':>7} {'Energy (keV)':>15} {'Counts':>10}\")\n",
    "    print('-' * 35)\n",
    "    for ch in range(min(100, len(counts))):\n",
    "        print(f\"{ch:7d} {energy[ch]:15.3f} {counts[ch]:10d}\")\n",
    "\n",
    "# Example usage:\n",
    "# Replace with the path to your .CHN file\n",
    "filepath = \"C:\\\\Users\\\\livia\\\\Downloads\\\\College\\\\PHYS 4410\\\\N-0\\\\Data\\\\4-30-25\\\\cs-137 (pb backing).Chn\"\n",
    "print_first_100_bins(filepath)"
   ]
  },
  {
   "cell_type": "code",
   "execution_count": null,
   "id": "6fbc7435",
   "metadata": {},
   "outputs": [],
   "source": []
  }
 ],
 "metadata": {
  "kernelspec": {
   "display_name": "Python 3",
   "language": "python",
   "name": "python3"
  },
  "language_info": {
   "codemirror_mode": {
    "name": "ipython",
    "version": 3
   },
   "file_extension": ".py",
   "mimetype": "text/x-python",
   "name": "python",
   "nbconvert_exporter": "python",
   "pygments_lexer": "ipython3",
   "version": "3.8.8"
  }
 },
 "nbformat": 4,
 "nbformat_minor": 5
}
